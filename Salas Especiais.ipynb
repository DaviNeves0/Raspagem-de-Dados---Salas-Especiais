{
 "cells": [
  {
   "cell_type": "markdown",
   "metadata": {},
   "source": [
    "# Analise de dados Salas para alunos com necessidades Especiais\n",
    "### Davi Silva Martins da Neves\n",
    "### João Pedro Rabello Brasil de Mecenas"
   ]
  },
  {
   "cell_type": "markdown",
   "metadata": {},
   "source": [
    "#### Importando as bibliotecas matplotlib e pandas;"
   ]
  },
  {
   "cell_type": "code",
   "execution_count": 6,
   "metadata": {},
   "outputs": [],
   "source": [
    "import matplotlib.pyplot as plt\n",
    "import pandas as pd\n",
    "low_memory=False\n",
    "pd.options.display.max_columns = 80\n",
    "pd.options.display.max_rows = 90"
   ]
  },
  {
   "cell_type": "markdown",
   "metadata": {},
   "source": [
    "#### Lendo o arquivo (.CSV) e buscando dados nas tabelas:Situação de Funcionamento, Salas especiais, Código da Entidade e Número da Entidade;"
   ]
  },
  {
   "cell_type": "code",
   "execution_count": 7,
   "metadata": {},
   "outputs": [],
   "source": [
    "\n",
    "df = pd.read_csv('ESCOLAS.csv', delimiter = '|', encoding='iso-8859-1', usecols=['TP_SITUACAO_FUNCIONAMENTO','IN_ESPECIAL_EXCLUSIVA','CO_ENTIDADE','NO_ENTIDADE'])"
   ]
  },
  {
   "cell_type": "code",
   "execution_count": 8,
   "metadata": {},
   "outputs": [
    {
     "data": {
      "text/plain": [
       "(279358, 4)"
      ]
     },
     "execution_count": 8,
     "metadata": {},
     "output_type": "execute_result"
    }
   ],
   "source": [
    "\n",
    "df.shape"
   ]
  },
  {
   "cell_type": "markdown",
   "metadata": {},
   "source": [
    "#### Filtrando a busca por escolas em funcionamento e que contêm salas especiais;"
   ]
  },
  {
   "cell_type": "code",
   "execution_count": 9,
   "metadata": {},
   "outputs": [
    {
     "data": {
      "text/plain": [
       "'Total de escolas com salas exclusivas para alunos especiais: 3619'"
      ]
     },
     "execution_count": 9,
     "metadata": {},
     "output_type": "execute_result"
    }
   ],
   "source": [
    "total = df.query('TP_SITUACAO_FUNCIONAMENTO == 1 and IN_ESPECIAL_EXCLUSIVA==1')['NO_ENTIDADE'].count()\n",
    "f'Total de escolas com salas exclusivas para alunos especiais: {total}'"
   ]
  },
  {
   "cell_type": "markdown",
   "metadata": {},
   "source": [
    "#### Buscando escolas em funcionamento no estado de São Paulo;\n"
   ]
  },
  {
   "cell_type": "code",
   "execution_count": 10,
   "metadata": {},
   "outputs": [
    {
     "data": {
      "text/plain": [
       "'Total de escolas: 187891'"
      ]
     },
     "execution_count": 10,
     "metadata": {},
     "output_type": "execute_result"
    }
   ],
   "source": [
    "totalEsc = df.query('TP_SITUACAO_FUNCIONAMENTO == 1')['NO_ENTIDADE'].count()\n",
    "f'Total de escolas: {totalEsc}'"
   ]
  },
  {
   "cell_type": "markdown",
   "metadata": {},
   "source": [
    "## Tabelas com exemplos de escolas que possuem Salas Especiais"
   ]
  },
  {
   "cell_type": "code",
   "execution_count": 11,
   "metadata": {
    "scrolled": true
   },
   "outputs": [
    {
     "data": {
      "text/html": [
       "<div>\n",
       "<style scoped>\n",
       "    .dataframe tbody tr th:only-of-type {\n",
       "        vertical-align: middle;\n",
       "    }\n",
       "\n",
       "    .dataframe tbody tr th {\n",
       "        vertical-align: top;\n",
       "    }\n",
       "\n",
       "    .dataframe thead th {\n",
       "        text-align: right;\n",
       "    }\n",
       "</style>\n",
       "<table border=\"1\" class=\"dataframe\">\n",
       "  <thead>\n",
       "    <tr style=\"text-align: right;\">\n",
       "      <th></th>\n",
       "      <th>NO_ENTIDADE</th>\n",
       "      <th>CO_ENTIDADE</th>\n",
       "    </tr>\n",
       "  </thead>\n",
       "  <tbody>\n",
       "    <tr>\n",
       "      <td>232967</td>\n",
       "      <td>EEEE ABNAEL MACHADO DE LIMA - CENE</td>\n",
       "      <td>11000023</td>\n",
       "    </tr>\n",
       "    <tr>\n",
       "      <td>246982</td>\n",
       "      <td>EEEF 21 DE ABRIL</td>\n",
       "      <td>11000376</td>\n",
       "    </tr>\n",
       "    <tr>\n",
       "      <td>189428</td>\n",
       "      <td>EEEFM BARAO DO SOLIMOES</td>\n",
       "      <td>11002468</td>\n",
       "    </tr>\n",
       "    <tr>\n",
       "      <td>176594</td>\n",
       "      <td>ASSOCIACAO PESTALOZZI DE PORTO VELHO</td>\n",
       "      <td>11003294</td>\n",
       "    </tr>\n",
       "    <tr>\n",
       "      <td>189433</td>\n",
       "      <td>ESCOLA DE EDUCACAO ESPECIAL NOVO MUNDO - ASSOC...</td>\n",
       "      <td>11006714</td>\n",
       "    </tr>\n",
       "    <tr>\n",
       "      <td>42294</td>\n",
       "      <td>APAE DE ARIQUEMES</td>\n",
       "      <td>11006722</td>\n",
       "    </tr>\n",
       "    <tr>\n",
       "      <td>233365</td>\n",
       "      <td>APAE JOSE DE CASTRO PEREIRA DOS SANTOS</td>\n",
       "      <td>11007966</td>\n",
       "    </tr>\n",
       "    <tr>\n",
       "      <td>219676</td>\n",
       "      <td>APAE PRECISO DE CARINHO</td>\n",
       "      <td>11011157</td>\n",
       "    </tr>\n",
       "    <tr>\n",
       "      <td>158096</td>\n",
       "      <td>ESCOLA JOHAN HEINRICH PESTALOZZI</td>\n",
       "      <td>11017848</td>\n",
       "    </tr>\n",
       "    <tr>\n",
       "      <td>233742</td>\n",
       "      <td>CEEJA GETULIO VARGAS</td>\n",
       "      <td>11022256</td>\n",
       "    </tr>\n",
       "  </tbody>\n",
       "</table>\n",
       "</div>"
      ],
      "text/plain": [
       "                                              NO_ENTIDADE  CO_ENTIDADE\n",
       "232967                 EEEE ABNAEL MACHADO DE LIMA - CENE     11000023\n",
       "246982                                   EEEF 21 DE ABRIL     11000376\n",
       "189428                            EEEFM BARAO DO SOLIMOES     11002468\n",
       "176594               ASSOCIACAO PESTALOZZI DE PORTO VELHO     11003294\n",
       "189433  ESCOLA DE EDUCACAO ESPECIAL NOVO MUNDO - ASSOC...     11006714\n",
       "42294                                   APAE DE ARIQUEMES     11006722\n",
       "233365             APAE JOSE DE CASTRO PEREIRA DOS SANTOS     11007966\n",
       "219676                            APAE PRECISO DE CARINHO     11011157\n",
       "158096                   ESCOLA JOHAN HEINRICH PESTALOZZI     11017848\n",
       "233742                               CEEJA GETULIO VARGAS     11022256"
      ]
     },
     "execution_count": 11,
     "metadata": {},
     "output_type": "execute_result"
    }
   ],
   "source": [
    "df.query('TP_SITUACAO_FUNCIONAMENTO == 1 and IN_ESPECIAL_EXCLUSIVA==1')[['NO_ENTIDADE','CO_ENTIDADE']].sort_values(by='CO_ENTIDADE').head(10)"
   ]
  },
  {
   "cell_type": "markdown",
   "metadata": {},
   "source": [
    "## Gráfico com a comparação entre escolas em funcionamento e escolas com salas especiais; "
   ]
  },
  {
   "cell_type": "code",
   "execution_count": 21,
   "metadata": {
    "scrolled": true
   },
   "outputs": [
    {
     "data": {
      "image/png": "[encoded data removed]",
      "text/plain": [
       "<Figure size 720x792 with 1 Axes>"
      ]
     },
     "metadata": {},
     "output_type": "display_data"
    }
   ],
   "source": [
    "str1=['Total de Escolas','Escolas com Salas para alunos Especiais em 2016']\n",
    "val = [187891,3619]\n",
    "total = sum(val)\n",
    "fig=plt.subplots(figsize=(10,11))\n",
    "explode = (0.1, 0.1)\n",
    "plt.pie(val,explode = explode , labels = str1, colors=['gold', 'lightskyblue'], autopct=lambda p:'{:.0f}'.format(p * total / 100))\n",
    "plt.axis('equal')\n",
    "plt.show()"
   ]
  },
  {
   "cell_type": "markdown",
   "metadata": {},
   "source": [
    "## Importando os dados de 2018  "
   ]
  },
  {
   "cell_type": "markdown",
   "metadata": {},
   "source": [
    "#### extraindo os dados da planilha \"ESCOLAS2018.CSV\" e salvando em uma nova váriavel \"dg\";"
   ]
  },
  {
   "cell_type": "code",
   "execution_count": 13,
   "metadata": {
    "scrolled": true
   },
   "outputs": [],
   "source": [
    "dg = pd.read_csv('ESCOLAS2018.csv', delimiter = '|', encoding='iso-8859-1', usecols=['TP_SITUACAO_FUNCIONAMENTO','IN_ESPECIAL_EXCLUSIVA','CO_ENTIDADE','NO_ENTIDADE'])"
   ]
  },
  {
   "cell_type": "code",
   "execution_count": 14,
   "metadata": {},
   "outputs": [
    {
     "data": {
      "text/plain": [
       "(286014, 4)"
      ]
     },
     "execution_count": 14,
     "metadata": {},
     "output_type": "execute_result"
    }
   ],
   "source": [
    "dg.shape"
   ]
  },
  {
   "cell_type": "markdown",
   "metadata": {},
   "source": [
    "#### Fazendo a filtragem dos dados por escola em funciomento e as que possuem salas especiais; "
   ]
  },
  {
   "cell_type": "code",
   "execution_count": 15,
   "metadata": {},
   "outputs": [
    {
     "data": {
      "text/plain": [
       "'Total de escolas com salas exclusivas para alunos especiais em 2018: 3401'"
      ]
     },
     "execution_count": 15,
     "metadata": {},
     "output_type": "execute_result"
    }
   ],
   "source": [
    "total1 = dg.query('TP_SITUACAO_FUNCIONAMENTO == 1 and IN_ESPECIAL_EXCLUSIVA==1')['NO_ENTIDADE'].count()\n",
    "f'Total de escolas com salas exclusivas para alunos especiais em 2018: {total1}'"
   ]
  },
  {
   "cell_type": "code",
   "execution_count": 17,
   "metadata": {},
   "outputs": [
    {
     "data": {
      "text/plain": [
       "'Total de escolas 2018: 183746'"
      ]
     },
     "execution_count": 17,
     "metadata": {},
     "output_type": "execute_result"
    }
   ],
   "source": [
    "totalEsc2018 = dg.query('TP_SITUACAO_FUNCIONAMENTO == 1')['NO_ENTIDADE'].count()\n",
    "f'Total de escolas 2018: {totalEsc2018}'"
   ]
  },
  {
   "cell_type": "markdown",
   "metadata": {},
   "source": [
    "#### Criando uma tabela com algumas escolas que possuem salas especiais;"
   ]
  },
  {
   "cell_type": "code",
   "execution_count": 18,
   "metadata": {},
   "outputs": [
    {
     "data": {
      "text/html": [
       "<div>\n",
       "<style scoped>\n",
       "    .dataframe tbody tr th:only-of-type {\n",
       "        vertical-align: middle;\n",
       "    }\n",
       "\n",
       "    .dataframe tbody tr th {\n",
       "        vertical-align: top;\n",
       "    }\n",
       "\n",
       "    .dataframe thead th {\n",
       "        text-align: right;\n",
       "    }\n",
       "</style>\n",
       "<table border=\"1\" class=\"dataframe\">\n",
       "  <thead>\n",
       "    <tr style=\"text-align: right;\">\n",
       "      <th></th>\n",
       "      <th>NO_ENTIDADE</th>\n",
       "      <th>CO_ENTIDADE</th>\n",
       "    </tr>\n",
       "  </thead>\n",
       "  <tbody>\n",
       "    <tr>\n",
       "      <td>1589</td>\n",
       "      <td>EEEE ABNAEL MACHADO DE LIMA - CENE</td>\n",
       "      <td>11000023</td>\n",
       "    </tr>\n",
       "    <tr>\n",
       "      <td>2685</td>\n",
       "      <td>EEEF 21 DE ABRIL</td>\n",
       "      <td>11000376</td>\n",
       "    </tr>\n",
       "    <tr>\n",
       "      <td>1867</td>\n",
       "      <td>ASSOCIACAO PESTALOZZI DE PORTO VELHO</td>\n",
       "      <td>11003294</td>\n",
       "    </tr>\n",
       "    <tr>\n",
       "      <td>3011</td>\n",
       "      <td>APAE DE ARIQUEMES</td>\n",
       "      <td>11006722</td>\n",
       "    </tr>\n",
       "    <tr>\n",
       "      <td>808</td>\n",
       "      <td>APAE JOSE DE CASTRO PEREIRA DOS SANTOS</td>\n",
       "      <td>11007966</td>\n",
       "    </tr>\n",
       "    <tr>\n",
       "      <td>2957</td>\n",
       "      <td>APAE PRECISO DE CARINHO</td>\n",
       "      <td>11011157</td>\n",
       "    </tr>\n",
       "    <tr>\n",
       "      <td>2974</td>\n",
       "      <td>APAE DE JI PARANA - INSTITUTO DE EDUCACAO ESPE...</td>\n",
       "      <td>11016086</td>\n",
       "    </tr>\n",
       "    <tr>\n",
       "      <td>1108</td>\n",
       "      <td>ESCOLA JOHAN HEINRICH PESTALOZZI</td>\n",
       "      <td>11017848</td>\n",
       "    </tr>\n",
       "    <tr>\n",
       "      <td>1081</td>\n",
       "      <td>ESCOLA ESPECIALIZADA RAIO DE LUZ</td>\n",
       "      <td>11027363</td>\n",
       "    </tr>\n",
       "    <tr>\n",
       "      <td>2120</td>\n",
       "      <td>CENTRO EDUCACIONAL DE ROLIM DE MOURA</td>\n",
       "      <td>11028440</td>\n",
       "    </tr>\n",
       "  </tbody>\n",
       "</table>\n",
       "</div>"
      ],
      "text/plain": [
       "                                            NO_ENTIDADE  CO_ENTIDADE\n",
       "1589                 EEEE ABNAEL MACHADO DE LIMA - CENE     11000023\n",
       "2685                                   EEEF 21 DE ABRIL     11000376\n",
       "1867               ASSOCIACAO PESTALOZZI DE PORTO VELHO     11003294\n",
       "3011                                  APAE DE ARIQUEMES     11006722\n",
       "808              APAE JOSE DE CASTRO PEREIRA DOS SANTOS     11007966\n",
       "2957                            APAE PRECISO DE CARINHO     11011157\n",
       "2974  APAE DE JI PARANA - INSTITUTO DE EDUCACAO ESPE...     11016086\n",
       "1108                   ESCOLA JOHAN HEINRICH PESTALOZZI     11017848\n",
       "1081                   ESCOLA ESPECIALIZADA RAIO DE LUZ     11027363\n",
       "2120               CENTRO EDUCACIONAL DE ROLIM DE MOURA     11028440"
      ]
     },
     "execution_count": 18,
     "metadata": {},
     "output_type": "execute_result"
    }
   ],
   "source": [
    "dg.query('TP_SITUACAO_FUNCIONAMENTO == 1 and IN_ESPECIAL_EXCLUSIVA==1')[['NO_ENTIDADE','CO_ENTIDADE']].sort_values(by='CO_ENTIDADE').head(10)"
   ]
  },
  {
   "cell_type": "markdown",
   "metadata": {},
   "source": [
    "#### Criando o gráfico de 2018;"
   ]
  },
  {
   "cell_type": "code",
   "execution_count": 20,
   "metadata": {},
   "outputs": [
    {
     "data": {
      "image/png": "[encoded data removed]",
      "text/plain": [
       "<Figure size 720x792 with 1 Axes>"
      ]
     },
     "metadata": {},
     "output_type": "display_data"
    }
   ],
   "source": [
    "str1=['Total de Escolas','Escolas com Salas para alunos Especiais em 2018']\n",
    "val = [183746,3401]\n",
    "total = sum(val)\n",
    "fig=plt.subplots(figsize=(10,11))\n",
    "explode = (0.1, 0.1)\n",
    "plt.pie(val,explode = explode , labels = str1, colors=['gold', 'lightskyblue'], autopct=lambda p:'{:.0f}'.format(p * total / 100))\n",
    "plt.axis('equal')\n",
    "plt.show()"
   ]
  }
 ],
 "metadata": {
  "kernelspec": {
   "display_name": "Python 3",
   "language": "python",
   "name": "python3"
  },
  "language_info": {
   "codemirror_mode": {
    "name": "ipython",
    "version": 3
   },
   "file_extension": ".py",
   "mimetype": "text/x-python",
   "name": "python",
   "nbconvert_exporter": "python",
   "pygments_lexer": "ipython3",
   "version": "3.7.4"
  }
 },
 "nbformat": 4,
 "nbformat_minor": 2
}
